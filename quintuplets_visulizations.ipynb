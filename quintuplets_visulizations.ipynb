{
 "cells": [
  {
   "cell_type": "code",
   "execution_count": null,
   "metadata": {},
   "outputs": [],
   "source": [
    "import os\n",
    "from PIL import Image\n",
    "import numpy as np\n",
    "from quintuplets import Quintuplet, visualize_quintuplet\n",
    "from nlp_utils import add_text_to_image\n",
    "import matplotlib.pyplot as plt"
   ]
  },
  {
   "cell_type": "code",
   "execution_count": null,
   "metadata": {},
   "outputs": [],
   "source": [
    "dataset_path = \"/home/dcor/roeyron/datasets/quintuplets_v1\"\n",
    "qp_ids = np.random.RandomState(0).permutation(sorted(os.listdir(dataset_path)))\n",
    "qp_id = qp_ids[0]\n",
    "qp = Quintuplet.load(dataset_path, qp_id)\n",
    "print(qp)"
   ]
  },
  {
   "cell_type": "code",
   "execution_count": null,
   "metadata": {},
   "outputs": [],
   "source": [
    "qp.get_quadruplet(which='gamma_positive')"
   ]
  },
  {
   "cell_type": "code",
   "execution_count": null,
   "metadata": {},
   "outputs": [],
   "source": [
    "n = 10\n",
    "for qp_id in qp_ids[:n]:\n",
    "    qp = Quintuplet.load(dataset_path, qp_id)\n",
    "    visualize_quintuplet(qp)"
   ]
  },
  {
   "cell_type": "code",
   "execution_count": null,
   "metadata": {},
   "outputs": [],
   "source": [
    "from extract_embeddings_qard import load_model, get_list_subset, get_list_subset, get_splits_ids\n",
    "n_parts = 1\n",
    "part = 0\n",
    "\n",
    "\n",
    "# processor, model = load_model()\n",
    "qn_ids = get_splits_ids()['train']\n",
    "qd_ids = [QuadrupletId(qn_id, which) for qn_id in qn_ids for which in [\"gamma_positive\", \"delta_positive\"]]\n",
    "# qd_ids = get_list_subset(qd_ids, n_parts, part)\n"
   ]
  },
  {
   "cell_type": "code",
   "execution_count": null,
   "metadata": {},
   "outputs": [],
   "source": [
    "get_splits_ids()"
   ]
  },
  {
   "cell_type": "code",
   "execution_count": null,
   "metadata": {},
   "outputs": [],
   "source": []
  }
 ],
 "metadata": {
  "kernelspec": {
   "display_name": "Python 3 (ipykernel)",
   "language": "python",
   "name": "python3"
  },
  "language_info": {
   "codemirror_mode": {
    "name": "ipython",
    "version": 3
   },
   "file_extension": ".py",
   "mimetype": "text/x-python",
   "name": "python",
   "nbconvert_exporter": "python",
   "pygments_lexer": "ipython3",
   "version": "3.10.13"
  }
 },
 "nbformat": 4,
 "nbformat_minor": 4
}
