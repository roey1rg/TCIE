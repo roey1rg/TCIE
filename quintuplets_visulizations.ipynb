{
 "cells": [
  {
   "cell_type": "code",
   "execution_count": null,
   "metadata": {},
   "outputs": [],
   "source": [
    "import os\n",
    "from PIL import Image\n",
    "import numpy as np\n",
    "from quintuplets import Quintuplet, visualize_quintuplet\n",
    "from nlp_utils import add_text_to_image\n",
    "import matplotlib.pyplot as plt"
   ]
  },
  {
   "cell_type": "code",
   "execution_count": null,
   "metadata": {},
   "outputs": [],
   "source": [
    "dataset_path = \"/home/dcor/roeyron/datasets/quintuplets_v1\"\n",
    "qp_ids = sorted(os.listdir(dataset_path))\n",
    "# qp_ids = np.random.RandomState(111).permutation(qp_ids)\n",
    "\"/home/dcor/roeyron/datasets/quintuplets_v1\"\n",
    "\n",
    "vis_dir_path = '/home/dcor/roeyron/TCIE/graphs/quintuplets_visualizations'\n",
    "if not os.path.exists(vis_dir_path):\n",
    "    os.mkdir(vis_dir_path)\n",
    "\n",
    "n = -1\n",
    "for i, qp_id in enumerate(qp_ids[:n]):\n",
    "    qp = Quintuplet.load(dataset_path, qp_id)\n",
    "    save_path = os.path.join(vis_dir_path, f'{qp_id}.jpg')\n",
    "    visualize_quintuplet(qp, show=i<5, save_path=save_path)"
   ]
  },
  {
   "cell_type": "code",
   "execution_count": null,
   "metadata": {},
   "outputs": [],
   "source": []
  }
 ],
 "metadata": {
  "kernelspec": {
   "display_name": "Python 3 (ipykernel)",
   "language": "python",
   "name": "python3"
  },
  "language_info": {
   "codemirror_mode": {
    "name": "ipython",
    "version": 3
   },
   "file_extension": ".py",
   "mimetype": "text/x-python",
   "name": "python",
   "nbconvert_exporter": "python",
   "pygments_lexer": "ipython3",
   "version": "3.10.13"
  }
 },
 "nbformat": 4,
 "nbformat_minor": 4
}
