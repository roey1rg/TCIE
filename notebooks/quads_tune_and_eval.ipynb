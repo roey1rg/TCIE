{
 "cells": [
  {
   "cell_type": "code",
   "execution_count": null,
   "id": "0ef2caba-861e-44bd-916e-918bb50b1914",
   "metadata": {},
   "outputs": [],
   "source": [
    "import os\n",
    "import matplotlib\n",
    "from PIL import Image\n",
    "import numpy as np\n",
    "import matplotlib.pyplot as plt\n",
    "from collections import defaultdict\n",
    "import pandas as pd\n",
    "from tqdm.auto import tqdm\n",
    "import pickle\n",
    "import time\n",
    "from nlp_utils import get_cos_sim, add_text_to_image, set_default_figure_params\n",
    "from quintuplets import QuadrupletId, load_quadruplet, QUINTUPLETS_DATASET_PATH, Quintuplet, visualize_quadruplet, get_splits_ids\n",
    "import seaborn as sns\n",
    "# sns.set_theme()\n",
    "set_default_figure_params()"
   ]
  },
  {
   "cell_type": "code",
   "execution_count": null,
   "id": "3740f25f-82f1-473d-b65c-d2d109cc77e2",
   "metadata": {},
   "outputs": [],
   "source": [
    "all_ids = sorted(os.listdir(QUINTUPLETS_DATASET_PATH))\n",
    "def get_splits_ids():\n",
    "    all_ids = sorted(os.listdir(QUINTUPLETS_DATASET_PATH))\n",
    "    all_ids = np.random.RandomState(0).permutation(all_ids)\n",
    "    return {'train': list(all_ids[100:]), 'test': list(all_ids[:100])}"
   ]
  },
  {
   "cell_type": "code",
   "execution_count": null,
   "id": "a42404ac-d4c5-4780-a104-2e2eace3162e",
   "metadata": {},
   "outputs": [],
   "source": []
  },
  {
   "cell_type": "code",
   "execution_count": null,
   "id": "c9479b96-569a-49d9-81c5-993a71ccba43",
   "metadata": {},
   "outputs": [],
   "source": [
    "split_ids = get_splits_ids()\n",
    "\n",
    "# import json\n",
    "# with open('/home/dcor/roeyron/TCIE/qard_train_test_split_ids.json', 'w') as f:\n",
    "#     json.dump(split_ids, f, indent=4)"
   ]
  },
  {
   "cell_type": "code",
   "execution_count": null,
   "id": "d26013e7-5357-4bc5-a531-92c4d435dcf4",
   "metadata": {},
   "outputs": [],
   "source": [
    "results_dir = '/home/dcor/roeyron/TCIE/results/qard_v3_embeddings_answer_shortly/'\n",
    "# results_dir = '/home/dcor/roeyron/TCIE/results/qard_v2_embeddings/'\n",
    "\n",
    "results_fnames = sorted(os.listdir(results_dir))\n",
    "results_fpaths = [os.path.join(results_dir, fname) for fname in results_fnames]\n",
    "\n",
    "\n",
    "splits_ids = get_splits_ids()\n",
    "df = pd.concat([pd.read_pickle(fpath) for fpath in tqdm(results_fpaths)])\n",
    "df['split'] = df.quintuplet_id.apply(lambda i: dict_id_to_split[i])\n",
    "print(len(df))\n",
    "df.head()"
   ]
  },
  {
   "cell_type": "code",
   "execution_count": null,
   "id": "484caf24-bb82-467f-8468-79108deeb808",
   "metadata": {},
   "outputs": [],
   "source": [
    "def get_df_results(query_prompt, search_prompt, split, layer=None):\n",
    "    assert query_prompt in ['general', 'original']\n",
    "    assert search_prompt in ['general', 'original']\n",
    "    i_token = -1\n",
    "    layers = range(1, 33) if layer is None else [layer]\n",
    "    \n",
    "    qd_ids = df[['quintuplet_id', 'which']].drop_duplicates()\n",
    "    qd_ids = [QuadrupletId(e.quintuplet_id, e.which) for _, e in qd_ids.iterrows()]\n",
    "    qd_ids = [qd_id for qd_id in qd_ids if qd_id.quintuplet_id in splits_ids[split]]\n",
    "    ddl_results = defaultdict(list)\n",
    "    \n",
    "    for i_layer in layers:\n",
    "        for qd_id in qd_ids:\n",
    "            df_qd_query = df[(df.quintuplet_id == qd_id.quintuplet_id) & (df.which == qd_id.which) & (df.question_type == query_prompt)]\n",
    "            df_qd_serach = df[(df.quintuplet_id == qd_id.quintuplet_id) & (df.which == qd_id.which) & (df.question_type == search_prompt)]\n",
    "            hs_query = df_qd_query[df_qd_query.image_type == 'query'].iloc[0].hidden_states[i_layer, i_token]\n",
    "            hs_positive = df_qd_serach[df_qd_serach.image_type == 'positive'].iloc[0].hidden_states[i_layer, i_token]\n",
    "            hs_negative = df_qd_serach[df_qd_serach.image_type == 'negative'].iloc[0].hidden_states[i_layer, i_token]\n",
    "    \n",
    "            sim_p = get_cos_sim(hs_query, hs_positive)\n",
    "            sim_n = get_cos_sim(hs_query, hs_negative)\n",
    "            correct = sim_p > sim_n\n",
    "            \n",
    "            ddl_results['i_layer'].append(i_layer)\n",
    "            ddl_results['i_token'].append(i_token)\n",
    "            ddl_results['correct'].append(correct)\n",
    "            ddl_results['sim_p'].append(sim_p)\n",
    "            ddl_results['sin_n'].append(sim_n)\n",
    "    \n",
    "    df_results = pd.DataFrame(ddl_results)\n",
    "    return df_results"
   ]
  },
  {
   "cell_type": "code",
   "execution_count": null,
   "id": "79631c2b-abed-4d0b-a2f7-282761a48c3f",
   "metadata": {},
   "outputs": [],
   "source": [
    "\n",
    "def plot_accuracy_per_layer(df_results):\n",
    "    # Assuming df_results is your DataFrame\n",
    "    sr = df_results.groupby(by='i_layer')['correct'].agg(['mean', 'sem']).reset_index()\n",
    "    sr = sr.rename(columns={'mean': 'accuracy', 'sem': 'error'})\n",
    "    plt.figure()\n",
    "    sns.set_style(\"whitegrid\")\n",
    "    ax = sns.lineplot(x='i_layer', y='accuracy', data=sr, marker='o', label='Accuracy')\n",
    "    plt.fill_between(sr['i_layer'], \n",
    "                     sr['accuracy'] - sr['error'], \n",
    "                     sr['accuracy'] + sr['error'], \n",
    "                     alpha=0.2, \n",
    "                     # label='Error margin'\n",
    "                    )\n",
    "    best_layer = sr.loc[sr['accuracy'].idxmax(), 'i_layer']\n",
    "    best_accuracy = sr['accuracy'].max()\n",
    "    \n",
    "    plt.scatter([best_layer], [best_accuracy], marker='*', c='green', s=70, zorder=5, label=f'Optimum')\n",
    "    \n",
    "    plt.xlabel('Layer')\n",
    "    plt.ylabel('Accuracy')\n",
    "    plt.xticks(range(0, len(sr['i_layer'])+1, 2))\n",
    "    \n",
    "    plt.legend(loc='upper left')\n",
    "    plt.tight_layout()\n",
    "    plt.show()"
   ]
  },
  {
   "cell_type": "markdown",
   "id": "290b2ae1-6d69-4c94-9930-1e94cf65b622",
   "metadata": {},
   "source": [
    "# original question (use the same specific question)"
   ]
  },
  {
   "cell_type": "code",
   "execution_count": null,
   "id": "1e106387-600b-4c0b-a216-db1f1df02a03",
   "metadata": {},
   "outputs": [],
   "source": [
    "df_results_orig_orig_train = get_df_results('original', 'original', 'train')\n",
    "best_layer = df_results_orig_orig_train.groupby('i_layer').mean().correct.argmax()\n",
    "plot_accuracy_per_layer(df_results_orig_orig_train)\n",
    "df_results_orig_orig_test = get_df_results('original', 'original', 'test', layer=best_layer)\n",
    "\n",
    "test_acc = df_results_orig_orig_test[df_results_orig_orig_test.i_layer == best_layer].correct.mean()\n",
    "print('test accuracy', test_acc)"
   ]
  },
  {
   "cell_type": "markdown",
   "id": "a071a8b7-0dc6-41cc-83c7-5c1753f05f10",
   "metadata": {},
   "source": [
    "# use different prompts"
   ]
  },
  {
   "cell_type": "code",
   "execution_count": null,
   "id": "da563649-4aec-45be-bd0e-8103598a1016",
   "metadata": {},
   "outputs": [],
   "source": [
    "    df_results_orig_general_train = get_df_results('original', 'general', 'train')\n",
    "best_layer = df_results_orig_general_train.groupby('i_layer').mean().correct.argmax()\n",
    "plot_accuracy_per_layer(df_results_orig_general_train)\n",
    "\n",
    "df_results_orig_general_test = get_df_results('original', 'general', 'test')\n",
    "\n",
    "test_acc = df_results_orig_general_test[df_results_orig_general_test.i_layer == best_layer].correct.mean()\n",
    "print('test accuracy', test_acc)"
   ]
  },
  {
   "cell_type": "code",
   "execution_count": null,
   "id": "f765ce0e-8eec-4be3-97b0-d2e093d0b9aa",
   "metadata": {},
   "outputs": [],
   "source": []
  },
  {
   "cell_type": "markdown",
   "id": "2fca7c0f-9923-42df-811e-510dcabe6fad",
   "metadata": {},
   "source": [
    "# Visual examination of predicitons "
   ]
  },
  {
   "cell_type": "code",
   "execution_count": null,
   "id": "ecb2f446-4867-4fcc-bf82-311483778d6f",
   "metadata": {},
   "outputs": [],
   "source": [
    "i_token = -1\n",
    "\n",
    "qd_ids = df[['quintuplet_id', 'which']].drop_duplicates()\n",
    "qd_ids = [QuadrupletId(e.quintuplet_id, e.which) for _, e in qd_ids.iterrows()]\n",
    "ddl_results = defaultdict(list)\n",
    "\n",
    "for qd_id in qd_ids[:20]:\n",
    "    df_qd = df[(df.quintuplet_id == qd_id.quintuplet_id) & (df.which == qd_id.which)]\n",
    "    # for i_layer in range(0, 33):\n",
    "    i_layer = best_layer\n",
    "    hs_query = df_qd[df_qd.image_type == 'query'].iloc[0].hidden_states[i_layer, i_token]\n",
    "    hs_positive = df_qd[df_qd.image_type == 'positive'].iloc[0].hidden_states[i_layer, i_token]\n",
    "    hs_negative = df_qd[df_qd.image_type == 'negative'].iloc[0].hidden_states[i_layer, i_token]\n",
    "\n",
    "    \n",
    "    sim_p = get_cos_sim(hs_query, hs_positive)\n",
    "    sim_n = get_cos_sim(hs_query, hs_negative)\n",
    "    correct = sim_p > sim_n\n",
    "\n",
    "    print(correct)\n",
    "    visualize_quadruplet(QUINTUPLETS_DATASET_PATH, qd_id)\n",
    "        "
   ]
  },
  {
   "cell_type": "code",
   "execution_count": null,
   "id": "9f54119c-b488-4e88-b10a-05031a118dc6",
   "metadata": {},
   "outputs": [],
   "source": []
  },
  {
   "cell_type": "code",
   "execution_count": null,
   "id": "70899aab-9a2b-476f-b75f-89f8bd885271",
   "metadata": {},
   "outputs": [],
   "source": []
  }
 ],
 "metadata": {
  "kernelspec": {
   "display_name": "Python 3 (ipykernel)",
   "language": "python",
   "name": "python3"
  },
  "language_info": {
   "codemirror_mode": {
    "name": "ipython",
    "version": 3
   },
   "file_extension": ".py",
   "mimetype": "text/x-python",
   "name": "python",
   "nbconvert_exporter": "python",
   "pygments_lexer": "ipython3",
   "version": "3.10.13"
  }
 },
 "nbformat": 4,
 "nbformat_minor": 5
}
