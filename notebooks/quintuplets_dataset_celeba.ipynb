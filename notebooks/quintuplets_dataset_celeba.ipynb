{
 "cells": [
  {
   "cell_type": "code",
   "execution_count": null,
   "metadata": {},
   "outputs": [],
   "source": [
    "import nlp_utils\n",
    "import pandas as pd\n",
    "import numpy as np\n",
    "from PIL import Image\n",
    "from PIL import ImageDraw, ImageFont\n",
    "from nlp_utils import add_text_to_image\n"
   ]
  },
  {
   "cell_type": "code",
   "execution_count": null,
   "metadata": {},
   "outputs": [],
   "source": [
    "\n",
    "df_celeba = nlp_utils.get_celeba_data_df(limit=None)\n",
    "attr_names = df_celeba.columns[2:]\n",
    "print('attribute_names', attr_names)\n",
    "df_celeba.head()"
   ]
  },
  {
   "cell_type": "code",
   "execution_count": null,
   "metadata": {},
   "outputs": [],
   "source": [
    "possible_face_ares = ['hair', 'lips', 'nose', 'eyes', 'facial hair', 'eyebrows', 'chin', 'face structure', 'cheeks', 'neck']\n",
    "\n",
    "prompts_dictionary = {\n",
    "    \"5_o_Clock_Shadow\": \"facial hair\",\n",
    "    \"Arched_Eyebrows\": \"eyebrows\",\n",
    "    \"Attractive\": None,\n",
    "    \"Bags_Under_Eyes\": \"eyes\",\n",
    "    \"Bald\": \"hair\",\n",
    "    \"Bangs\": \"hair\",\n",
    "    \"Big_Lips\": \"lips\",\n",
    "    \"Big_Nose\": \"nose\",\n",
    "    \"Black_Hair\": \"hair\",\n",
    "    \"Blond_Hair\": \"hair\",\n",
    "    \"Blurry\": None,\n",
    "    \"Brown_Hair\": \"hair\",\n",
    "    \"Bushy_Eyebrows\": \"eyebrows\",\n",
    "    \"Chubby\": None,\n",
    "    \"Double_Chin\": \"chin\",\n",
    "    \"Eyeglasses\": \"eyes\",\n",
    "    \"Goatee\": \"facial hair\",\n",
    "    \"Gray_Hair\": \"hair\",\n",
    "    \"Heavy_Makeup\": None,\n",
    "    \"High_Cheekbones\": 'cheeks',\n",
    "    \"Male\": None,\n",
    "    \"Mouth_Slightly_Open\": \"lips\",\n",
    "    \"Mustache\": \"facial hair\",\n",
    "    \"Narrow_Eyes\": \"eyes\",\n",
    "    \"No_Beard\": None, #  \"facial hair\",\n",
    "    \"Oval_Face\": 'face structure',\n",
    "    \"Pale_Skin\": None,\n",
    "    \"Pointy_Nose\": 'nose',\n",
    "    \"Receding_Hairline\": \"hair\",\n",
    "    \"Rosy_Cheeks\": \"cheeks\",\n",
    "    \"Sideburns\": \"hair\",\n",
    "    \"Smiling\": \"lips\",\n",
    "    \"Straight_Hair\": \"hair\",\n",
    "    \"Wavy_Hair\": \"hair\",\n",
    "    \"Wearing_Earrings\": None, # \"ears\",\n",
    "    \"Wearing_Hat\": \"hair\",\n",
    "    \"Wearing_Lipstick\": \"lips\",\n",
    "    \"Wearing_Necklace\": \"neck\",\n",
    "    \"Wearing_Necktie\": \"neck\",\n",
    "    \"Young\": None,\n",
    "}"
   ]
  },
  {
   "cell_type": "code",
   "execution_count": null,
   "metadata": {},
   "outputs": [],
   "source": [
    "possible_face_ares = ['hair', 'lips', 'age']\n",
    "\n",
    "\n",
    "attr_names = [k for k, v in prompts_dictionary.items() if v]\n",
    "interest_attr = np.random.choice(attr_names)\n",
    " \n",
    "# interest_attr = 'Young'  # attribute to focus on\n",
    "\n",
    "query_candidates = df_celeba[interest_attr] & pd.Series(df_celeba[attr_names].values.sum(axis=1) > 1)  # we want to have at least 2 True attributes for the query\n",
    "\n",
    "query_ind = np.random.choice(np.where(query_candidates.values)[0])  # choose a random query index\n",
    "other_attr = np.random.choice([a for a in attr_names if a != interest_attr and df_celeba.iloc[query_ind][a]])  # choose an attribute different from interest_attr that the query has\n",
    "\n",
    "negative_candidates = ~df_celeba[interest_attr] & df_celeba[other_attr]\n",
    "negative_ind = np.random.choice(np.where(negative_candidates.values)[0])\n",
    "positive_candidates = df_celeba[interest_attr] & ~df_celeba[other_attr]\n",
    "positive_ind = np.random.choice(np.where(positive_candidates.values)[0])\n",
    "\n",
    "ids = [query_ind, positive_ind, negative_ind]\n",
    "texts = []\n",
    "for name, i in zip(['query', 'positive', 'negative'], ids):\n",
    "    texts.append(f'{name}\\n{interest_attr}: {df_celeba.iloc[i][interest_attr]}\\n{other_attr}: {df_celeba.iloc[i][other_attr]}')\n",
    "\n",
    "image_paths = [df_celeba.image_path.iloc[i] for i in ids]\n",
    "images = [Image.open(p) for p in image_paths]\n",
    "# texts = [f'query\\n{interest_attr}-y\\n{other_attr}-y', f'positive\\n{interest_attr}-y\\n', f'negative\\n{other_attr}']\n",
    "images = [add_text_to_image(image, text, 12) for image, text in zip(images, texts)]\n",
    "print('Attributre:', interest_attr)\n",
    "prompt_id = prompts_dictionary[interest_attr]\n",
    "print(f'Prompt ({prompt_id}): Describe the {prompts_dictionary[interest_attr]} of the person in the image')\n",
    "Image.fromarray(np.concatenate([img.resize((256, 256)) for img in images], axis=1))\n",
    "\n"
   ]
  },
  {
   "cell_type": "code",
   "execution_count": null,
   "metadata": {},
   "outputs": [],
   "source": []
  }
 ],
 "metadata": {
  "kernelspec": {
   "display_name": "Python 3 (ipykernel)",
   "language": "python",
   "name": "python3"
  },
  "language_info": {
   "codemirror_mode": {
    "name": "ipython",
    "version": 3
   },
   "file_extension": ".py",
   "mimetype": "text/x-python",
   "name": "python",
   "nbconvert_exporter": "python",
   "pygments_lexer": "ipython3",
   "version": "3.10.13"
  }
 },
 "nbformat": 4,
 "nbformat_minor": 4
}
