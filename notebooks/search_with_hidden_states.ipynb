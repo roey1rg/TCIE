{
 "cells": [
  {
   "cell_type": "code",
   "execution_count": null,
   "id": "d272fc84-6ead-4086-b45b-038a71f5d8aa",
   "metadata": {},
   "outputs": [],
   "source": [
    "import os\n",
    "import matplotlib\n",
    "from PIL import Image\n",
    "import numpy as np\n",
    "import matplotlib.pyplot as plt\n",
    "from collections import defaultdict\n",
    "import pandas as pd\n",
    "from tqdm.auto import tqdm\n",
    "import pickle\n",
    "from sklearn.neighbors import NearestNeighbors\n",
    "import time\n",
    "import nlp_utils # our utils"
   ]
  },
  {
   "cell_type": "code",
   "execution_count": null,
   "id": "dcffdf36-165b-4f0d-98bc-f832993ecad4",
   "metadata": {},
   "outputs": [],
   "source": [
    "results_dir = '/home/dcor/roeyron/TCIE/results/celeba_conditioned_embeddings/'\n",
    "\n",
    "results_fnames = sorted(os.listdir(results_dir))\n",
    "results_fpaths = [os.path.join(results_dir, fname) for fname in results_fnames]\n",
    "\n",
    "files_per_q = defaultdict(list)\n",
    "for p in results_fpaths:\n",
    "    q_ind = int(p.split('_')[-3])\n",
    "    files_per_q[q_ind].append(p)\n",
    "files_per_q = dict(files_per_q)\n",
    "files_per_q\n",
    "\n"
   ]
  },
  {
   "cell_type": "code",
   "execution_count": null,
   "id": "c6252781-2e3d-4f3d-8ded-0d40ae57d099",
   "metadata": {},
   "outputs": [],
   "source": [
    "def load_df(fpaths):\n",
    "    dfs = []\n",
    "    for fpath in fpaths:\n",
    "        with open(fpath, 'rb') as f:\n",
    "            df = pickle.load(f)\n",
    "        dfs.append(df)\n",
    "    df = pd.concat(dfs)\n",
    "    return df"
   ]
  },
  {
   "cell_type": "code",
   "execution_count": null,
   "id": "c449ebb3-40f8-4ae0-be16-823e08d82674",
   "metadata": {},
   "outputs": [],
   "source": [
    "df_q0 = load_df(files_per_q[0])\n",
    "df_q0.head()"
   ]
  },
  {
   "cell_type": "code",
   "execution_count": null,
   "id": "aa23aa20-9e6f-4b63-a486-8edf6d9df739",
   "metadata": {},
   "outputs": [],
   "source": [
    "Image.open(df_q0.iloc[349].image_path)"
   ]
  },
  {
   "cell_type": "code",
   "execution_count": null,
   "id": "9b9cf569-d7e4-46ad-9047-3f81e9c5b15b",
   "metadata": {},
   "outputs": [],
   "source": [
    "###########################\n",
    "i_layer = -1  # <= 32\n",
    "i_token = -1\n",
    "\n",
    "###########################\n",
    "k = 9\n",
    "###########################\n",
    "\n",
    "\n",
    "ddl = defaultdict(list)\n",
    "\n",
    "query_image_inds = [200, 1153, 1011, 300, 18] + list(np.random.RandomState(50).permutation(len(df_q0))[:30])\n",
    "\n",
    "for q_ind, fpaths in tqdm(file_per_q.items()):\n",
    "    df = load_df(fpaths)\n",
    "    for query_ind in query_image_inds:\n",
    "\n",
    "        questions = df.question.unique()\n",
    "        assert len(questions) == 1\n",
    "        question = questions[0]\n",
    "\n",
    "        \n",
    "        X = np.array([hs[i_layer][i_token] for hs in df['hidden_states']])\n",
    "    \n",
    "        neighbors = NearestNeighbors(n_neighbors=k + 1, metric='cosine')\n",
    "        neighbors.fit(X)\n",
    "        query = X[query_ind]\n",
    "        distances, indices = neighbors.kneighbors([query])\n",
    "        distances, indices = distances[0, :], indices[0, :]\n",
    "\n",
    "        ddl['query_ind'].append(query_ind)\n",
    "        ddl['result_inds'].append(indices)\n",
    "        ddl['question'].append(question)\n",
    "        \n",
    "        # print(f'{query_ind} -------', question)\n",
    "        # images = [Image.open(df['image_path'].iloc[nn_ind]) for nn_ind in indices]\n",
    "        # display(Image.fromarray(np.concatenate([img.resize((256, 256)) for img in images], axis=1)))\n",
    "        \n",
    "df_search = pd.DataFrame(ddl)\n",
    "df_search.head()"
   ]
  },
  {
   "cell_type": "code",
   "execution_count": null,
   "id": "a549d6b5-dc94-4402-895f-e3bd345e2a99",
   "metadata": {},
   "outputs": [],
   "source": [
    "df_search.question.unique()"
   ]
  },
  {
   "cell_type": "code",
   "execution_count": null,
   "id": "c357cd04-40ff-4183-9e7b-d7e58b381119",
   "metadata": {},
   "outputs": [],
   "source": []
  },
  {
   "cell_type": "code",
   "execution_count": null,
   "id": "18e2aecf-98d5-43bf-9eaf-0548de3214da",
   "metadata": {},
   "outputs": [],
   "source": [
    "\n",
    "for query_ind in df_search.query_ind.unique():\n",
    "    df_query = df_search[df_search.query_ind == query_ind]\n",
    "    for _, row in df_query.iterrows():\n",
    "        # if not cechk_if_sub_str_in(row.question, good_questions_sub_strings):\n",
    "        #     continue\n",
    "        print(row.result_inds)\n",
    "        print(f' ######### Prompt: {row.question} [{query_ind}]')\n",
    "        images = [Image.open(df['image_path'].iloc[nn_ind]) for nn_ind in row.result_inds]\n",
    "        display(Image.fromarray(np.concatenate([img.resize((180, 180)) for img in images], axis=1)))\n",
    "    "
   ]
  },
  {
   "cell_type": "code",
   "execution_count": null,
   "id": "eab2ce19-0b88-4a62-9b04-c9064661ba3f",
   "metadata": {},
   "outputs": [],
   "source": [
    "prompts_and_images = {\n",
    "    \"describe the hair of the person in the image\": [18, 17, 853, 552],\n",
    "    \"describe the expression of the person in the image\": [18, 331, 958, 1114],\n",
    "    \"describe the background color of the image\": [18, 848, 937, 404]\n",
    "}"
   ]
  },
  {
   "cell_type": "code",
   "execution_count": null,
   "id": "22acf4ec-9af1-44eb-9f35-e2c27ff5a5e6",
   "metadata": {},
   "outputs": [],
   "source": [
    "import shutil\n",
    "dir_path = '/home/dcor/roeyron/TCIE/results/images_dir_for_paper_teaser'\n",
    "if os.path.exists(dir_path):\n",
    "    shutil.rmtree(dir_path)\n",
    "os.mkdir(dir_path)\n",
    "for prompt, image_ids in prompts_and_images.items():\n",
    "    prefix = prompt.replace(' ', '_')\n",
    "    for i, image_id in enumerate(image_ids):\n",
    "        src_path = df_q0.iloc[image_id].image_path\n",
    "        dst_path = os.path.join(dir_path, f'{prefix}_{i}.png')\n",
    "        shutil.copy(src_path, dst_path)\n",
    "        "
   ]
  },
  {
   "cell_type": "code",
   "execution_count": null,
   "id": "c8d003c1-90f1-4011-801d-d34b26df8c33",
   "metadata": {},
   "outputs": [],
   "source": []
  }
 ],
 "metadata": {
  "kernelspec": {
   "display_name": "Python 3 (ipykernel)",
   "language": "python",
   "name": "python3"
  },
  "language_info": {
   "codemirror_mode": {
    "name": "ipython",
    "version": 3
   },
   "file_extension": ".py",
   "mimetype": "text/x-python",
   "name": "python",
   "nbconvert_exporter": "python",
   "pygments_lexer": "ipython3",
   "version": "3.10.13"
  }
 },
 "nbformat": 4,
 "nbformat_minor": 5
}
