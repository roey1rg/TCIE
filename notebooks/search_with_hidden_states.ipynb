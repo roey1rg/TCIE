{
 "cells": [
  {
   "cell_type": "code",
   "execution_count": 1,
   "id": "d272fc84-6ead-4086-b45b-038a71f5d8aa",
   "metadata": {},
   "outputs": [
    {
     "name": "stderr",
     "output_type": "stream",
     "text": [
      "/home/dcor/roeyron/miniconda3/envs/patchscopes/lib/python3.10/site-packages/transformers/utils/hub.py:127: FutureWarning: Using `TRANSFORMERS_CACHE` is deprecated and will be removed in v5 of Transformers. Use `HF_HOME` instead.\n",
      "  warnings.warn(\n"
     ]
    }
   ],
   "source": [
    "import os\n",
    "import matplotlib\n",
    "from PIL import Image\n",
    "import numpy as np\n",
    "import matplotlib.pyplot as plt\n",
    "from collections import defaultdict\n",
    "import pandas as pd\n",
    "from tqdm.auto import tqdm\n",
    "import pickle\n",
    "from sklearn.neighbors import NearestNeighbors\n",
    "import time\n",
    "import nlp_utils # our utils"
   ]
  },
  {
   "cell_type": "code",
   "execution_count": null,
   "id": "dcffdf36-165b-4f0d-98bc-f832993ecad4",
   "metadata": {},
   "outputs": [],
   "source": [
    "results_dir = '/home/dcor/roeyron/TCIE/results/celeba_conditioned_embeddings'\n",
    "\n",
    "results_fnames = sorted(os.listdir(results_dir), key=lambda name: int(name.split('_')[1].split('.')[0]))\n",
    "results_fpaths = [os.path.join(results_dir, fname) for fname in results_fnames]\n",
    "\n",
    "fpath = results_fpaths[4]\n",
    "# for fpath in tqdm(results_fpaths):\n",
    "with open(fpath, 'rb') as f:\n",
    "    df = pickle.load(f)\n",
    "\n",
    "question = df.question.unique()[0]\n",
    "question"
   ]
  },
  {
   "cell_type": "code",
   "execution_count": null,
   "id": "9b9cf569-d7e4-46ad-9047-3f81e9c5b15b",
   "metadata": {},
   "outputs": [],
   "source": [
    "###########################\n",
    "i_layer = -10  # <= 32\n",
    "i_token = -1\n",
    "\n",
    "###########################\n",
    "k = 10\n",
    "query_ind = 10\n",
    "###########################\n",
    "\n",
    "\n",
    "\n",
    "ddl = defaultdict(list)\n",
    "query_image_inds = np.random.RandomState(6).permutation(len(df))[:20]\n",
    "\n",
    "for fpath in tqdm(results_fpaths):\n",
    "    try:\n",
    "        with open(fpath, 'rb') as f:\n",
    "            df = pickle.load(f)\n",
    "    except:\n",
    "        continue\n",
    "    question = df.question.unique()[0]\n",
    "    for query_ind in query_image_inds:\n",
    "        X = np.array([hs[i_layer][i_token] for hs in df['hidden_states']])\n",
    "    \n",
    "        neighbors = NearestNeighbors(n_neighbors=k + 1, metric='cosine')\n",
    "        neighbors.fit(X)\n",
    "        query = X[query_ind]\n",
    "        distances, indices = neighbors.kneighbors([query])\n",
    "        distances, indices = distances[0, :], indices[0, :]\n",
    "\n",
    "        ddl['query_ind'].append(query_ind)\n",
    "        ddl['result_inds'].append(indices)\n",
    "        ddl['question'].append(question)\n",
    "        \n",
    "        # print(f'{query_ind} -------', question)\n",
    "        # images = [Image.open(df['image_path'].iloc[nn_ind]) for nn_ind in indices]\n",
    "        # display(Image.fromarray(np.concatenate([img.resize((256, 256)) for img in images], axis=1)))\n",
    "        \n",
    "df_search = pd.DataFrame(ddl)\n",
    "df_search.head()"
   ]
  },
  {
   "cell_type": "code",
   "execution_count": null,
   "id": "a549d6b5-dc94-4402-895f-e3bd345e2a99",
   "metadata": {},
   "outputs": [],
   "source": [
    "df_search.question.unique()"
   ]
  },
  {
   "cell_type": "code",
   "execution_count": null,
   "id": "18e2aecf-98d5-43bf-9eaf-0548de3214da",
   "metadata": {},
   "outputs": [],
   "source": [
    "good_questions_sub_strings = ['expression', 'shirt', 'describe the hair']\n",
    "\n",
    "def cechk_if_sub_str_in(question, sub_strings):\n",
    "    for ss in sub_strings:\n",
    "        if ss in question:\n",
    "            return True\n",
    "    return False\n",
    "\n",
    "\n",
    "\n",
    "for query_ind in df_search.query_ind.unique():\n",
    "    df_query = df_search[df_search.query_ind == query_ind]\n",
    "    for _, row in df_query.iterrows():\n",
    "        # if not cechk_if_sub_str_in(row.question, good_questions_sub_strings):\n",
    "        #     continue\n",
    "        print(f' ######### Prompt: {row.question} [{query_ind}]')\n",
    "        images = [Image.open(df['image_path'].iloc[nn_ind]) for nn_ind in row.result_inds]\n",
    "        display(Image.fromarray(np.concatenate([img.resize((180, 180)) for img in images], axis=1)))\n",
    "    "
   ]
  },
  {
   "cell_type": "code",
   "execution_count": null,
   "id": "87066701-5b5e-4d4c-8a89-2b1abc099012",
   "metadata": {},
   "outputs": [],
   "source": [
    "for _, row in df_query.iterrows():\n",
    "    print(row['question'])"
   ]
  },
  {
   "cell_type": "code",
   "execution_count": null,
   "id": "f9b41597-1f8b-46af-b8c7-2f5c299c83e4",
   "metadata": {},
   "outputs": [],
   "source": [
    "df_search.query_ind.unique()"
   ]
  },
  {
   "cell_type": "code",
   "execution_count": null,
   "id": "3678e61b-1ba0-4623-ab2c-416c634dd9ec",
   "metadata": {},
   "outputs": [],
   "source": [
    "good_questions_sub_strings"
   ]
  },
  {
   "cell_type": "code",
   "execution_count": null,
   "id": "16d3053e",
   "metadata": {},
   "outputs": [],
   "source": []
  }
 ],
 "metadata": {
  "kernelspec": {
   "display_name": "Python 3 (ipykernel)",
   "language": "python",
   "name": "python3"
  },
  "language_info": {
   "codemirror_mode": {
    "name": "ipython",
    "version": 3
   },
   "file_extension": ".py",
   "mimetype": "text/x-python",
   "name": "python",
   "nbconvert_exporter": "python",
   "pygments_lexer": "ipython3",
   "version": "3.10.13"
  }
 },
 "nbformat": 4,
 "nbformat_minor": 5
}
