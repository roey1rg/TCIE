{
 "cells": [
  {
   "cell_type": "code",
   "execution_count": null,
   "id": "08f56dd3-eb73-4a8a-85cc-84841a3e0076",
   "metadata": {},
   "outputs": [],
   "source": [
    "%load_ext autoreload\n",
    "%autoreload 2"
   ]
  },
  {
   "cell_type": "code",
   "execution_count": null,
   "id": "aaf7b68f-8c8b-4978-a903-86f34505ffd0",
   "metadata": {},
   "outputs": [],
   "source": [
    "import os\n",
    "import glob\n",
    "import pickle\n",
    "import matplotlib.pyplot as plt\n",
    "from nlp_utils import set_default_figure_params\n",
    "set_default_figure_params()"
   ]
  },
  {
   "cell_type": "code",
   "execution_count": null,
   "id": "c38e5e0f-055f-4f90-bd04-77a8f9452271",
   "metadata": {},
   "outputs": [],
   "source": [
    "from classfication_experiment import create_graphs, QUESTIONS"
   ]
  },
  {
   "cell_type": "code",
   "execution_count": null,
   "id": "9d7c244b-be51-4bfc-9efe-0f7c3c2e8c5b",
   "metadata": {},
   "outputs": [],
   "source": [
    "results_dir_path = '/home/dcor/roeyron/TCIE/results/classification_experiment/'"
   ]
  },
  {
   "cell_type": "code",
   "execution_count": null,
   "id": "dddb71fd-57bb-4225-9e8a-ad7791b1b407",
   "metadata": {},
   "outputs": [],
   "source": [
    "\n",
    "token_loc = -1\n",
    "plt.figure(figsize=(8, 5))\n",
    "plt.title(f\"Classifier Accuracy v.s. Hidden Layer Depth\\ntoken location: {token_loc}\")\n",
    "plt.grid(True)\n",
    "plt.ylabel(\"Accuracy\")\n",
    "plt.xlabel(\"Layer\")\n",
    "for question in QUESTIONS:\n",
    "\n",
    "    q_str = question.replace(\" \", \"_\")\n",
    "    pickle_path = os.path.join(results_dir_path, f\"{q_str}_training_results.pickle\")\n",
    "    # Reloading the data from the pickle file\n",
    "    with open(pickle_path, \"rb\") as f:\n",
    "        loaded_data = pickle.load(f)\n",
    "    \n",
    "    df_acc = loaded_data[\"df_acc\"]\n",
    "    tokens = loaded_data[\"tokens\"]\n",
    "    class_names = loaded_data[\"class_names\"]\n",
    "\n",
    "    \n",
    "    x = df_acc[df_acc.token_loc == token_loc].layer\n",
    "    y = df_acc[df_acc.token_loc == token_loc].accuracy\n",
    "    plt.plot(x, y, label=f'Prompt: \"{question}\"')\n",
    "plt.axhline(1 / len(class_names), label=\"random guess\", c=\"red\")\n",
    "plt.legend(loc='lower right')\n",
    "    # if output_path:\n",
    "    #     plt.savefig(output_path, bbox_inches=\"tight\")\n",
    "plt.show()\n"
   ]
  },
  {
   "cell_type": "code",
   "execution_count": null,
   "id": "a77ae10a-23fc-456f-80bc-57e8a21a83cb",
   "metadata": {},
   "outputs": [],
   "source": [
    "df_acc"
   ]
  },
  {
   "cell_type": "code",
   "execution_count": null,
   "id": "05ea4a7e-9e6c-4c0d-8a16-a2637f5b45bc",
   "metadata": {},
   "outputs": [],
   "source": [
    "for qy in QUESTIONS:\n",
    "    create_graphs(results_dir_path, q)"
   ]
  },
  {
   "cell_type": "code",
   "execution_count": null,
   "id": "ff991afd-ad6e-4b35-81a3-27c3078e8a5f",
   "metadata": {},
   "outputs": [],
   "source": []
  }
 ],
 "metadata": {
  "kernelspec": {
   "display_name": "Python 3 (ipykernel)",
   "language": "python",
   "name": "python3"
  },
  "language_info": {
   "codemirror_mode": {
    "name": "ipython",
    "version": 3
   },
   "file_extension": ".py",
   "mimetype": "text/x-python",
   "name": "python",
   "nbconvert_exporter": "python",
   "pygments_lexer": "ipython3",
   "version": "3.10.13"
  }
 },
 "nbformat": 4,
 "nbformat_minor": 5
}
