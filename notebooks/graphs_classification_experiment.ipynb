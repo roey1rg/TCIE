{
 "cells": [
  {
   "cell_type": "code",
   "execution_count": null,
   "id": "08f56dd3-eb73-4a8a-85cc-84841a3e0076",
   "metadata": {},
   "outputs": [],
   "source": [
    "%load_ext autoreload\n",
    "%autoreload 2"
   ]
  },
  {
   "cell_type": "code",
   "execution_count": null,
   "id": "aaf7b68f-8c8b-4978-a903-86f34505ffd0",
   "metadata": {},
   "outputs": [],
   "source": [
    "import os\n",
    "import glob\n",
    "import pickle\n",
    "import matplotlib.pyplot as plt\n",
    "from nlp_utils import set_default_figure_params\n",
    "import seaborn as sns\n",
    "from classfication_experiment import create_graphs, QUESTIONS\n",
    "import numpy as np\n",
    "set_default_figure_params()"
   ]
  },
  {
   "cell_type": "code",
   "execution_count": null,
   "id": "9d7c244b-be51-4bfc-9efe-0f7c3c2e8c5b",
   "metadata": {},
   "outputs": [],
   "source": [
    "results_dir_path = '/home/dcor/roeyron/TCIE/results/classification_experiment/'"
   ]
  },
  {
   "cell_type": "code",
   "execution_count": null,
   "id": "dddb71fd-57bb-4225-9e8a-ad7791b1b407",
   "metadata": {},
   "outputs": [],
   "source": [
    "\n",
    "token_loc = -1\n",
    "# plt.figure(figsize=(8, 5))\n",
    "plt.figure()\n",
    "# plt.title(f\"Classifier Accuracy v.s. Hidden Layer Depth\\ntoken location: {token_loc}\")\n",
    "plt.grid(True)\n",
    "plt.ylabel(\"Accuracy\")\n",
    "plt.xlabel(\"Layer\")\n",
    "for question in QUESTIONS:\n",
    "    q_str = question.replace(\" \", \"_\")\n",
    "    pickle_path = os.path.join(results_dir_path, f\"{q_str}_training_results.pickle\")\n",
    "    # Reloading the data from the pickle file\n",
    "    with open(pickle_path, \"rb\") as f:\n",
    "        loaded_data = pickle.load(f)\n",
    "    \n",
    "    df_acc = loaded_data[\"df_acc\"]\n",
    "    tokens = loaded_data[\"tokens\"]\n",
    "    class_names = loaded_data[\"class_names\"]\n",
    "\n",
    "    x = df_acc[df_acc.token_loc == token_loc].layer\n",
    "    y = df_acc[df_acc.token_loc == token_loc].accuracy\n",
    "    plt.plot(x, y, label=f'Prompt: \"{question}\"')\n",
    "plt.axhline(1 / len(class_names), label=\"random guess\", c=\"red\")\n",
    "plt.legend(loc='lower right', framealpha=1, fontsize=8.8)\n",
    "\n",
    "plt.show()\n"
   ]
  },
  {
   "cell_type": "code",
   "execution_count": null,
   "id": "a77ae10a-23fc-456f-80bc-57e8a21a83cb",
   "metadata": {},
   "outputs": [],
   "source": [
    "\n",
    "token_loc = -1\n",
    "\n",
    "question = QUESTIONS[0]\n",
    "\n",
    "q_str = question.replace(\" \", \"_\")\n",
    "pickle_path = os.path.join(results_dir_path, f\"{q_str}_training_results.pickle\")\n",
    "# Reloading the data from the pickle file\n",
    "with open(pickle_path, \"rb\") as f:\n",
    "    loaded_data = pickle.load(f)\n",
    "\n",
    "df_acc = loaded_data[\"df_acc\"]\n",
    "tokens = loaded_data[\"tokens\"]\n",
    "class_names = loaded_data[\"class_names\"]\n",
    "\n",
    "token_locs = sorted(set(df_acc.token_loc))[4:]\n",
    "class_names = class_names[4:]\n",
    "df_acc = df_acc[df_acc.token_loc > min(token_locs)]\n",
    "tokens = tokens[4+1:]\n",
    "\n",
    "plt.figure(figsize=(16, 8))\n",
    "heatmap_data = df_acc.pivot(columns=[\"token_loc\"], index=\"layer\", values=\"accuracy\")\n",
    "ax = sns.heatmap(heatmap_data, annot=True, cmap=\"RdYlGn\")\n",
    "ax.invert_yaxis()\n",
    "plt.title(\"Accuracy Heatmap\")\n",
    "plt.xticks(np.array(range(len(tokens))) + 0.5, tokens)\n",
    "plt.yticks(rotation=0)\n",
    "plt.ylabel('Layer', size=18)\n",
    "plt.xlabel('Token', size=18)\n",
    "plt.title(None)\n",
    "heatmap_path = os.path.join(results_dir_path, f\"{q_str}_heatmap.png\")\n",
    "if heatmap_path:\n",
    "    plt.savefig(heatmap_path, bbox_inches=\"tight\")\n",
    "plt.show()"
   ]
  },
  {
   "cell_type": "code",
   "execution_count": null,
   "id": "febbf586-e02c-4212-ba13-3297586dac57",
   "metadata": {},
   "outputs": [],
   "source": [
    "heatmap_path"
   ]
  },
  {
   "cell_type": "code",
   "execution_count": null,
   "id": "05ea4a7e-9e6c-4c0d-8a16-a2637f5b45bc",
   "metadata": {},
   "outputs": [],
   "source": [
    "for q in QUESTIONS:\n",
    "    create_graphs(results_dir_path, q)"
   ]
  },
  {
   "cell_type": "code",
   "execution_count": null,
   "id": "ff991afd-ad6e-4b35-81a3-27c3078e8a5f",
   "metadata": {},
   "outputs": [],
   "source": []
  }
 ],
 "metadata": {
  "kernelspec": {
   "display_name": "Python 3 (ipykernel)",
   "language": "python",
   "name": "python3"
  },
  "language_info": {
   "codemirror_mode": {
    "name": "ipython",
    "version": 3
   },
   "file_extension": ".py",
   "mimetype": "text/x-python",
   "name": "python",
   "nbconvert_exporter": "python",
   "pygments_lexer": "ipython3",
   "version": "3.10.13"
  }
 },
 "nbformat": 4,
 "nbformat_minor": 5
}
